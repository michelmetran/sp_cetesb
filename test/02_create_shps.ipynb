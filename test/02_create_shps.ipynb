{
 "cells": [
  {
   "cell_type": "markdown",
   "id": "65cc69c2",
   "metadata": {},
   "source": [
    "<br>\n",
    "\n",
    "# Introdução"
   ]
  },
  {
   "cell_type": "code",
   "execution_count": null,
   "id": "6fa424b0",
   "metadata": {},
   "outputs": [],
   "source": [
    "import os\n",
    "#import re\n",
    "# import time\n",
    "# import json\n",
    "# import folium\n",
    "# import random\n",
    "# import requests\n",
    "# import numpy as np\n",
    "import pandas as pd\n",
    "# import seaborn as sns\n",
    "import geopandas as gpd\n",
    "from folium import plugins\n",
    "from osgeo import gdal, osr\n",
    "from bs4 import BeautifulSoup\n",
    "from tqdm.notebook import trange, tqdm"
   ]
  },
  {
   "cell_type": "code",
   "execution_count": null,
   "id": "d56c75a8-e49d-48a2-83c6-b0db0ca8e4e5",
   "metadata": {},
   "outputs": [],
   "source": [
    "from paths import *"
   ]
  },
  {
   "cell_type": "code",
   "execution_count": null,
   "id": "37f3e12a-7d33-4ca8-8485-edbdb1081c7a",
   "metadata": {},
   "outputs": [],
   "source": [
    "from open_geodata import geo"
   ]
  },
  {
   "cell_type": "markdown",
   "id": "52c69383",
   "metadata": {},
   "source": [
    "<br>\n",
    "\n",
    "## Join Data"
   ]
  },
  {
   "cell_type": "code",
   "execution_count": null,
   "id": "4b1436ce-6a54-4566-8c05-8b2a5019ae1d",
   "metadata": {},
   "outputs": [],
   "source": [
    "# Lê o arquivo csv com o nome dos municípios\n",
    "df = pd.read_csv(\n",
    "    os.path.join(output_path_tab, 'tab_municipio_cetesb.csv'),\n",
    ")"
   ]
  },
  {
   "cell_type": "code",
   "execution_count": null,
   "id": "47143eb4-31b8-458a-b261-17d7aecd047b",
   "metadata": {},
   "outputs": [],
   "source": [
    "gdf = geo.load_dataset('sp_250k_wgs84')\n",
    "gdf.info()"
   ]
  },
  {
   "cell_type": "code",
   "execution_count": null,
   "id": "dfd646a3",
   "metadata": {},
   "outputs": [],
   "source": [
    "# # Lê o arquivo csv com o nome dos municípios\n",
    "# gdf = gpd.read_file(\n",
    "#     'https://raw.githubusercontent.com/michelmetran/sp/main/data/shps/sp_250k_wgs84.geojson',\n",
    "# )\n",
    "gdf.drop(['municipio_nome'], axis=1, inplace=True)\n",
    "# gdf['id_municipio'] = gdf['id_municipio'].astype(int)\n",
    "gdf['geometry'] = gdf.simplify(0.0015)\n",
    "\n",
    "# Merge\n",
    "gdf = gdf.merge(\n",
    "    df,\n",
    "    on='id_municipio',\n",
    "    how='left'\n",
    ")\n",
    "\n",
    "# Results\n",
    "gdf.head()"
   ]
  },
  {
   "cell_type": "markdown",
   "id": "e53eb4c5-2b13-4665-bfd2-1ece817de741",
   "metadata": {},
   "source": [
    "<br>\n",
    "\n",
    "## Save geojson"
   ]
  },
  {
   "cell_type": "code",
   "execution_count": null,
   "id": "dfd55411",
   "metadata": {},
   "outputs": [],
   "source": [
    "gdf.to_file(\n",
    "    os.path.join(output_path_geo, 'sp_cetesb.geojson'),\n",
    "    driver='GeoJSON',\n",
    "    encoding='utf-8'\n",
    ")\n",
    "\n",
    "gdf.to_file(\n",
    "    os.path.join(output_path_geo, 'sp_cetesb.gpkg'),\n",
    "    layer='sp_cetesb',\n",
    "    driver='GPKG',\n",
    ")\n",
    "\n",
    "# Results\n",
    "gdf.head()"
   ]
  },
  {
   "cell_type": "code",
   "execution_count": null,
   "id": "cc714e50-ee98-4352-8524-557889fdabf2",
   "metadata": {},
   "outputs": [],
   "source": []
  }
 ],
 "metadata": {
  "interpreter": {
   "hash": "2bdda54bf0f28693adab761d90c570fb0a7faa3609b365313c0b5d078440c060"
  },
  "kernelspec": {
   "display_name": "Python 3 (ipykernel)",
   "language": "python",
   "name": "python3"
  },
  "language_info": {
   "codemirror_mode": {
    "name": "ipython",
    "version": 3
   },
   "file_extension": ".py",
   "mimetype": "text/x-python",
   "name": "python",
   "nbconvert_exporter": "python",
   "pygments_lexer": "ipython3",
   "version": "3.9.12"
  },
  "toc-autonumbering": true
 },
 "nbformat": 4,
 "nbformat_minor": 5
}

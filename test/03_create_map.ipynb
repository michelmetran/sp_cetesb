{
 "cells": [
  {
   "cell_type": "markdown",
   "id": "ed28993b-4743-4f8a-8f25-ba0e992f97bd",
   "metadata": {
    "pycharm": {
     "name": "#%% md\n"
    }
   },
   "source": [
    "<br>\n",
    "\n",
    "# Introdução"
   ]
  },
  {
   "cell_type": "code",
   "execution_count": null,
   "id": "48463a25-e0b1-4f99-b6bf-090098c8b336",
   "metadata": {
    "pycharm": {
     "name": "#%%\n"
    }
   },
   "outputs": [],
   "source": [
    "import os\n",
    "import re\n",
    "import folium\n",
    "#import random\n",
    "#import requests\n",
    "#import numpy as np\n",
    "import pandas as pd\n",
    "import seaborn as sns\n",
    "import geopandas as gpd\n",
    "from folium import plugins\n",
    "#from osgeo import gdal, osr\n",
    "#from bs4 import BeautifulSoup\n",
    "from tqdm.notebook import trange, tqdm"
   ]
  },
  {
   "cell_type": "code",
   "execution_count": null,
   "id": "00aecba9-a7c5-46f9-a625-6ed1704c83f1",
   "metadata": {
    "pycharm": {
     "name": "#%%\n"
    }
   },
   "outputs": [],
   "source": [
    "from paths import *"
   ]
  },
  {
   "cell_type": "code",
   "execution_count": null,
   "id": "f921b2f7-348d-41fe-b71c-d6f58f970341",
   "metadata": {
    "pycharm": {
     "name": "#%%\n"
    }
   },
   "outputs": [],
   "source": [
    "from open_geodata import lyr"
   ]
  },
  {
   "cell_type": "markdown",
   "id": "ca402bd2-7f40-474d-8d3c-459b612c6b1e",
   "metadata": {
    "pycharm": {
     "name": "#%% md\n"
    }
   },
   "source": [
    "<br>\n",
    "\n",
    "## Read Data"
   ]
  },
  {
   "cell_type": "code",
   "execution_count": null,
   "id": "f051b850-15f6-49ad-a75f-740795aa7327",
   "metadata": {
    "pycharm": {
     "name": "#%%\n"
    }
   },
   "outputs": [],
   "source": [
    "gdf = gpd.read_file(\n",
    "    os.path.join(output_path_geo, 'sp_cetesb.gpkg')\n",
    ")\n",
    "gdf.head()\n",
    "gdf.info()"
   ]
  },
  {
   "cell_type": "markdown",
   "id": "b1d99773-918f-4184-97ae-9537a5a2924b",
   "metadata": {
    "pycharm": {
     "name": "#%% md\n"
    }
   },
   "source": [
    "<br>\n",
    "\n",
    "## Layer"
   ]
  },
  {
   "cell_type": "code",
   "execution_count": null,
   "id": "e5e1b340-b73c-4659-8ae0-f6e0b0751a1b",
   "metadata": {
    "pycharm": {
     "name": "#%%\n"
    }
   },
   "outputs": [],
   "source": [
    "def lyr_cetesb():\n",
    "    # Input\n",
    "    gdf = gpd.read_file(os.path.join(output_path_geo, 'sp_cetesb.geojson'))\n",
    "    gdf = gdf.to_crs(epsg=4326)\n",
    "\n",
    "    # Set dictionary\n",
    "    colors = {\n",
    "        'Agência Ambiental de Americana': '#a6cee3',\n",
    "        'Agência Ambiental de Araraquara': '#1f78b4',\n",
    "        'Agência Ambiental de Araçatuba': '#b2df8a',\n",
    "        'Agência Ambiental de Assis': '#33a02c',\n",
    "        'Agência Ambiental de Atibaia': '#fb9a99',\n",
    "        'Agência Ambiental de Avaré': '#e31a1c',\n",
    "        'Agência Ambiental de Barretos': '#4da6ff',\n",
    "        'Agência Ambiental de Bauru': '#ff7f00',\n",
    "        'Agência Ambiental de Botucatu': '#cab2d6',\n",
    "        'Agência Ambiental de Campinas': '#6a3d9a',\n",
    "        'Agência Ambiental de Capão Bonito': '#ffff99',\n",
    "        'Agência Ambiental de Cubatão': '#b15928',\n",
    "        'Agência Ambiental de Dracena': '#a6cee3',\n",
    "        'Agência Ambiental de Embu das Artes': '#1f78b4',\n",
    "        'Agência Ambiental de Franca': '#b2df8a',\n",
    "        'Agência Ambiental de Guarulhos': '#33a02c',\n",
    "        'Agência Ambiental de Itapetininga': '#fb9a99',\n",
    "        'Agência Ambiental de Itu': '#e31a1c',\n",
    "        'Agência Ambiental de Jaboticabal': '#fdbf6f',\n",
    "        'Agência Ambiental de Jales': '#ff7f00',\n",
    "        'Agência Ambiental de Jundiaí': '#cab2d6',\n",
    "        'Agência Ambiental de Limeira': '#6a3d9a',\n",
    "        'Agência Ambiental de Marília': '#ffff99',\n",
    "        'Agência Ambiental de Mogi Guaçu': '#b15928',\n",
    "        'Agência Ambiental de Mogi das Cruzes': '#a6cee3',\n",
    "        'Agência Ambiental de Osasco': '#00264d',\n",
    "        'Agência Ambiental de Paulínia': '#b2df8a',\n",
    "        'Agência Ambiental de Piracicaba': '#33a02c',\n",
    "        'Agência Ambiental de Presidente Prudente': '#fb9a99',\n",
    "        'Agência Ambiental de Registro': '#e31a1c',\n",
    "        'Agência Ambiental de Ribeirão Preto': '#e699ff',\n",
    "        'Agência Ambiental de Santana': '#ff7f00',\n",
    "        'Agência Ambiental de Santo Amaro': '#cab2d6',\n",
    "        'Agência Ambiental de Santos': '#6a3d9a',\n",
    "        'Agência Ambiental de Sorocaba': '#ffff99',\n",
    "        'Agência Ambiental de São Carlos': '#ff5050',\n",
    "        'Agência Ambiental de São José do Rio Preto': '#a6cee3',\n",
    "        'Agência Ambiental de São José dos Campos': '#1f78b4',\n",
    "        'Agência Ambiental de São João da Boa Vista': '#b2df8a',\n",
    "        'Agência Ambiental de São Sebastião': '#33a02c',\n",
    "        'Agência Ambiental de Taubaté': '#fb9a99',\n",
    "        'Agência Ambiental de Votuporanga': '#e31a1c',\n",
    "        'Agência Ambiental do ABC I': '#fdbf6f',\n",
    "        'Agência Ambiental do ABC II': '#ff7f00',\n",
    "        'Agência Ambiental do Tatuapé': '#cab2d6',\n",
    "        'Sede': '#6a3d9a'\n",
    "    }\n",
    "    # Popup\n",
    "    #gdf['PopUp'] = gdf.apply(popup_html, axis=1)\n",
    "    gdf['popup'] = gdf.apply(popup_html, axis=1)\n",
    "\n",
    "    # Delete Columns\n",
    "    gdf.drop([\n",
    "        'id_municipio', 'endereco', 'numero', 'bairro',\n",
    "        'municipio_sede', 'cep', 'telefone', 'fax',\n",
    "        'complemento', 'url', 'email'], axis=1, inplace=True)\n",
    "    #print(gdf.columns)\n",
    "\n",
    "    # Layer\n",
    "    return folium.GeoJson(\n",
    "        gdf,\n",
    "        name='CETESB',\n",
    "        smooth_factor=1.0,\n",
    "        zoom_on_click=False,\n",
    "        embed=False,\n",
    "        control=True,\n",
    "        show=False,\n",
    "        style_function=lambda x: {\n",
    "            'fillColor': colors[x['properties']['agencia']],\n",
    "            'color': colors[x['properties']['agencia']],\n",
    "            'weight': 1,\n",
    "            'fillOpacity': 0.3,\n",
    "        },\n",
    "        highlight_function=lambda x: {\n",
    "            'weight': 3,\n",
    "            'fillOpacity': 0.6,\n",
    "        },\n",
    "        tooltip=folium.features.GeoJsonTooltip(\n",
    "            fields=['municipio_nome', 'agencia'],\n",
    "            aliases=['Munícipio', 'Agência'],\n",
    "            sticky=True,\n",
    "            opacity=0.9,\n",
    "            direction='right',\n",
    "        ),\n",
    "        popup=folium.GeoJsonPopup(\n",
    "            ['popup'],\n",
    "            parse_html=False,\n",
    "            max_width='400',\n",
    "            show=False,\n",
    "            labels=False,\n",
    "            sticky=True,            \n",
    "            # localize=True,\n",
    "            # style=f\"\"\"\n",
    "            # background-color: #F0EFEF;\n",
    "            # \"\"\",           \n",
    "        )        \n",
    "    )\n",
    "# Add Field\n",
    "def popup_html(row):\n",
    "    tel = str(row['telefone']).replace('-', '').replace(')', '').replace('(', '+55').replace(' ', '')\n",
    "    fax = str(row['fax']).replace('-', '').replace(')', '').replace('(', '+55').replace(' ', '')\n",
    "    \n",
    "    html = \"\"\"\n",
    "    <div>\n",
    "    <p><b>{}</b> pertence à:\n",
    "    <h4><b>{}</b></h4></p>\n",
    "    \n",
    "    <p><b>Sede:</b><br>\n",
    "    {}{}{}<br>\n",
    "    {}\n",
    "    {}\n",
    "    {}</p>\n",
    "    <p><b>Contatos:</b><br>\n",
    "    {}\n",
    "    {}\n",
    "    {}</p>\n",
    "    <p>{}</p>\n",
    "    </div>\n",
    "    \"\"\".format(\n",
    "        '' if pd.isnull(row['municipio_nome']) else '{}'.format(row['municipio_nome']),\n",
    "        '' if pd.isnull(row['agencia'])        else '{}'.format(row['agencia']),\n",
    "        '' if pd.isnull(row['endereco'])       else '{}'.format(row['endereco']),\n",
    "        '' if pd.isnull(row['numero'])         else ', {}'.format(row['numero']),\n",
    "        '' if pd.isnull(row['complemento'])    else ' - {}'.format(row['complemento']),\n",
    "        '' if pd.isnull(row['bairro'])         else 'Bairro: {}<br>'.format(row['bairro']),\n",
    "        '' if pd.isnull(row['municipio_sede']) else 'Município: {}<br>'.format(row['municipio_sede']),\n",
    "        '' if pd.isnull(row['cep'])            else 'CEP: {}<br>'.format(row['cep']),\n",
    "        '' if pd.isnull(row['telefone'])       else 'Telefone: <a href=\"tel:{}\">{}</a><br>'.format(tel, row['telefone']),\n",
    "        '' if pd.isnull(row['fax'])            else 'Fax: <a href=\"tel:{}\">{}</a><br>'.format(fax, row['fax']),\n",
    "        '' if pd.isnull(row['email'])          else 'E-mail: <a href=\"mailto:{}\">{}</a>'.format(row['email'], row['email']),\n",
    "        '' if pd.isnull(row['email'])          else '<a href=\"{}\" target=\"_blank\">Conferir Dados</a>'.format(row['url']),\n",
    "    )\n",
    "    \n",
    "    html = html.replace('\\n','')\n",
    "    html = re.sub('\\s\\s+' , ' ', html) # Remove Espaços no meio\n",
    "    html = html.strip()\n",
    "    return html"
   ]
  },
  {
   "cell_type": "markdown",
   "id": "fbeaa1f4-a7de-43a5-bc37-bc12bd83a43f",
   "metadata": {
    "pycharm": {
     "name": "#%% md\n"
    }
   },
   "source": [
    "<br>\n",
    "\n",
    "## Folium"
   ]
  },
  {
   "cell_type": "code",
   "execution_count": null,
   "id": "064ad1bf-e672-4c7b-a540-65b4a649e4ef",
   "metadata": {
    "pycharm": {
     "name": "#%%\n"
    }
   },
   "outputs": [],
   "source": [
    "def get_map(input_geojson):\n",
    "    # Input\n",
    "    gdf = gpd.read_file(input_geojson)\n",
    "    gdf = gdf.to_crs(epsg=4326)\n",
    "    sw = gdf.bounds[['miny', 'minx']].min().values.tolist()\n",
    "    ne = gdf.bounds[['maxy', 'maxx']].max().values.tolist()\n",
    "    bounds = [sw, ne]\n",
    "    \n",
    "    # Zoom\n",
    "    min_zoom = 8\n",
    "    max_zoom = 21\n",
    "    padding = 1\n",
    "    \n",
    "    # Create Map\n",
    "    m = folium.Map(\n",
    "        min_zoom=min_zoom,\n",
    "        max_zoom=max_zoom,\n",
    "        max_bounds=True,\n",
    "        min_lat=bounds[0][0]*((100+padding)/100),\n",
    "        min_lon=bounds[0][1]*((100+padding)/100),\n",
    "        max_lat=bounds[1][0]*((100-padding)/100),\n",
    "        max_lon=bounds[1][1]*((100-padding)/100),\n",
    "        tiles=None,\n",
    "        # zoom_delta=0.1,\n",
    "        # zoom_start=10,\n",
    "    )\n",
    "    \n",
    "    # Add Layers\n",
    "    m.add_child(lyr.base.google_streets(min_zoom, max_zoom))\n",
    "    m.add_child(lyr.base.google_terrain(min_zoom, max_zoom))\n",
    "    m.add_child(lyr.base.google_hybrid(min_zoom, max_zoom))\n",
    "    m.add_child(lyr.base.google_satellite(min_zoom, max_zoom))\n",
    "\n",
    "    # Monitoramento\n",
    "    m.add_child(lyr_cetesb())\n",
    "    #m.add_child(add_lyr_etes())\n",
    "    #m.add_child(add_lyr_est_aut_empresas())\n",
    "\n",
    "    # Bacse PCJ\n",
    "    #m.add_child(add_lyr_municipios_pcj(base_pcj_path))\n",
    "    #m.add_child(add_lyr_bacias_pcj(base_pcj_path))    \n",
    "    #feature_group = folium.FeatureGroup('Hidrografia')\n",
    "    #feature_group.add_child(add_lyr_hidrografia_principal(base_pcj_path))\n",
    "    #feature_group.add_child(add_lyr_represas_secundarias(base_pcj_path)) \n",
    "    #feature_group.add_child(add_lyr_represas_principais(base_pcj_path))\n",
    "    #feature_group.add_to(m)\n",
    "\n",
    "    # Plugins\n",
    "    m.fit_bounds(bounds)\n",
    "    plugins.Fullscreen(\n",
    "        position='topleft',\n",
    "        title='Clique para Maximizar',\n",
    "        title_cancel='Mininizar',\n",
    "    ).add_to(m)\n",
    "    folium.LayerControl(\n",
    "        position='topright',\n",
    "        collapsed=False,\n",
    "    ).add_to(m)\n",
    "    return m"
   ]
  },
  {
   "cell_type": "code",
   "execution_count": null,
   "id": "635f3e3e-8979-4f0d-a3c2-5457c23396fe",
   "metadata": {
    "pycharm": {
     "name": "#%%\n"
    }
   },
   "outputs": [],
   "source": [
    "# Create Maps\n",
    "m = get_map(\n",
    "    os.path.join(output_path_geo, 'sp_cetesb.gpkg')\n",
    ")\n",
    "\n",
    "# Save\n",
    "m.save(os.path.join(output_path_map, 'cetesb_map.html'))\n",
    "m"
   ]
  },
  {
   "cell_type": "markdown",
   "id": "aa5ee8ef-5693-424e-8c5d-61625457e77f",
   "metadata": {
    "pycharm": {
     "name": "#%% md\n"
    }
   },
   "source": [
    "<br>\n",
    "\n",
    "# Get Colors"
   ]
  },
  {
   "cell_type": "code",
   "execution_count": null,
   "id": "cc886161-8c36-4cc7-840f-87e5517ed7a5",
   "metadata": {
    "pycharm": {
     "name": "#%%\n"
    }
   },
   "outputs": [],
   "source": [
    "def create_colors(input_geojson):\n",
    "    gdf = gpd.read_file(input_geojson)\n",
    "\n",
    "    # Column with category\n",
    "    col_categories = 'agencia'\n",
    "\n",
    "    # Set palette\n",
    "    palette_polygon = 'Paired'\n",
    "\n",
    "    # Get list of unique values\n",
    "    categories = set(gdf[col_categories])\n",
    "    categories = list(categories)\n",
    "    categories.sort()\n",
    "\n",
    "    # See the palette chosed\n",
    "    pal = sns.color_palette(palette_polygon, n_colors=len(categories))\n",
    "\n",
    "    # Set dictionary\n",
    "    color_polygon = dict(zip(categories, pal.as_hex()))\n",
    "    color_polygon['Agência Ambiental de Ribeirão Preto'] = '#e699ff'\n",
    "    color_polygon['Agência Ambiental de Barretos'] = '#4da6ff'\n",
    "    color_polygon['Agência Ambiental de São Carlos'] = '#ff5050'\n",
    "    color_polygon['Agência Ambiental de Osasco'] = '#00264d'\n",
    "    return color_polygon"
   ]
  },
  {
   "cell_type": "code",
   "execution_count": null,
   "id": "e8b6da9b-4c62-47d8-baaa-e65382efaefe",
   "metadata": {
    "pycharm": {
     "name": "#%%\n"
    }
   },
   "outputs": [],
   "source": [
    "input_geojson = os.path.join(output_path_geo, 'sp_cetesb.geojson')\n",
    "a = create_colors(input_geojson)"
   ]
  }
 ],
 "metadata": {
  "interpreter": {
   "hash": "2bdda54bf0f28693adab761d90c570fb0a7faa3609b365313c0b5d078440c060"
  },
  "kernelspec": {
   "display_name": "Python 3.9.12 ('pablocarreira-py39')",
   "language": "python",
   "name": "python3"
  },
  "language_info": {
   "codemirror_mode": {
    "name": "ipython",
    "version": 3
   },
   "file_extension": ".py",
   "mimetype": "text/x-python",
   "name": "python",
   "nbconvert_exporter": "python",
   "pygments_lexer": "ipython3",
   "version": "3.9.12"
  }
 },
 "nbformat": 4,
 "nbformat_minor": 5
}

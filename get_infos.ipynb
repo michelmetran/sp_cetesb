{
 "cells": [
  {
   "cell_type": "markdown",
   "metadata": {},
   "source": [
    "# Introdução\n",
    "\n",
    "*Script* que cria uma tabela que apresenta informações das Agências Ambientais da CETESB que atuam nos 645 município deo Estado de São Paulo."
   ]
  },
  {
   "cell_type": "code",
   "execution_count": null,
   "metadata": {},
   "outputs": [],
   "source": [
    "import os\n",
    "import time\n",
    "import requests\n",
    "import numpy as np\n",
    "import pandas as pd\n",
    "import urllib.parse\n",
    "from bs4 import BeautifulSoup"
   ]
  },
  {
   "cell_type": "markdown",
   "metadata": {},
   "source": [
    "## Função"
   ]
  },
  {
   "cell_type": "code",
   "execution_count": null,
   "metadata": {},
   "outputs": [],
   "source": [
    "def get_AgenciaAmbiental(mun):\n",
    "    # Município\n",
    "    mun_url = mun.encode('ISO-8859-1')\n",
    "    mun_url = urllib.parse.quote(mun_url)\n",
    "    print('{} > {}'.format(mun, mun_url))\n",
    "    \n",
    "    # Set URL\n",
    "    url = 'https://licenciamento.cetesb.sp.gov.br/municipioss.asp?muni={}'.format(mun_url)\n",
    "    \n",
    "    # Get Data\n",
    "    r = requests.get(url)    \n",
    "    soup = BeautifulSoup(r.content, 'html.parser')\n",
    "    time.sleep(1)\n",
    "\n",
    "    # Get all relevant data\n",
    "    table = soup.find('table',  attrs={'width':'300'})\n",
    "    rows = table.find_all('tr')\n",
    "    \n",
    "    # Create List Adress\n",
    "    list_end = [mun]\n",
    "    for row in rows:\n",
    "        text = row.get_text()\n",
    "        text = ' '.join(text.split())\n",
    "        text = text.strip()\n",
    "        list_end.append(text)\n",
    "    \n",
    "    # Rename List    \n",
    "    for i in ['Bairro:', 'Cidade:', 'CEP:', 'Fone:', 'Fax:', 'E-mail:']:\n",
    "        list_end = np.char.replace(list_end, i, '')\n",
    "    list_end = [x.strip() for x in list_end]\n",
    "    \n",
    "    # Format Variables\n",
    "    cep = '{:08d}'.format(int(list_end[5]))\n",
    "    tel = list_end[6].strip().replace(' ', '').replace('-', ' ')\n",
    "    fax = list_end[7].strip().replace(' ', '').replace('-', ' ')\n",
    "    \n",
    "    # Create Dictionary\n",
    "    return {\n",
    "        'municipio_cetesb' : list_end[0],\n",
    "        'agencia'          : list_end[1],\n",
    "        'endereco'         : list_end[2].split('nº')[0].strip(),\n",
    "        'numero'           : list_end[2].split('nº')[1].strip(),\n",
    "        'bairro'           : list_end[3],\n",
    "        'municipio_sede'   : list_end[4].title(),\n",
    "        'cep'              : '{}-{}'.format(cep[:5], cep[5:8]),\n",
    "        'telefone'         : '({}) {}-{}'.format(tel[:2], tel[3:7], tel[7:]),\n",
    "        'fax'              : '({}) {}-{}'.format(fax[:2], fax[3:7], fax[7:]),\n",
    "        'email'            : list_end[8],\n",
    "        'url'              : url\n",
    "    }"
   ]
  },
  {
   "cell_type": "markdown",
   "metadata": {},
   "source": [
    "Uma vez que a função foi definida, basta fazer um teste. Escolhi o município de Piracicaba, pois não tem acentos e grafias divergentes nas diferentes bases de dados."
   ]
  },
  {
   "cell_type": "code",
   "execution_count": null,
   "metadata": {},
   "outputs": [],
   "source": [
    "get_AgenciaAmbiental('Piracicaba')"
   ]
  },
  {
   "cell_type": "markdown",
   "metadata": {},
   "source": [
    "## *Loop*\n",
    "\n",
    "Há municípios que apresentam apóstrofo e muitas vezes é escrito como acento ou até mesmo divergência na grafia do nome do município, por exemplo, \"Moji Mirim\" e \"Mogi Mirim\". Por isso, optei por ler uma tabela que tem os nomes dos municípios utilizados pela CETESB e, uma vez que fiz isso, basta inserir o nome que a instituição padronizou, por meio de um *loop* (*for*)."
   ]
  },
  {
   "cell_type": "code",
   "execution_count": null,
   "metadata": {},
   "outputs": [],
   "source": [
    "# Read Dataframe\n",
    "df = pd.read_csv(\n",
    "    os.path.join('data', 'tabs', 'tab_municipios.csv'),\n",
    ")\n",
    "\n",
    "# Results\n",
    "df.head()"
   ]
  },
  {
   "cell_type": "code",
   "execution_count": null,
   "metadata": {},
   "outputs": [],
   "source": [
    "# Create empty list\n",
    "list_addresses = []\n",
    "\n",
    "#df = df[0:4]  # For tests only\n",
    "for index, row in df.iterrows():\n",
    "    # Create Small Dictionary\n",
    "    dict_df = {\n",
    "        'id_municipio': row['id_municipio'],        \n",
    "    }\n",
    "    \n",
    "    # Get Addresses\n",
    "    list_address = get_AgenciaAmbiental(row['municipio_cetesb'])\n",
    "    list_address = {**dict_df, **list_address}\n",
    "    list_addresses.append(list_address)"
   ]
  },
  {
   "cell_type": "markdown",
   "metadata": {},
   "source": [
    "## *Create Table*"
   ]
  },
  {
   "cell_type": "code",
   "execution_count": null,
   "metadata": {},
   "outputs": [],
   "source": [
    "df_addresses = pd.DataFrame.from_dict(list_addresses)\n",
    "\n",
    "# Results\n",
    "df_addresses.head()"
   ]
  },
  {
   "cell_type": "code",
   "execution_count": null,
   "metadata": {},
   "outputs": [],
   "source": [
    "# Lê o arquivo csv com o nome dos municípios\n",
    "df_mun = pd.read_csv(\n",
    "    'https://raw.githubusercontent.com/michelmetran/sp/main/data/tabs/tab_municipios.csv',\n",
    ")\n",
    "df_mun = df_mun[['id_municipio', 'municipio_nome']]\n",
    "\n",
    "df_addresses = pd.merge(\n",
    "    df_mun,\n",
    "    df_addresses,\n",
    "    how='left',\n",
    "    left_on='id_municipio',\n",
    "    right_on='id_municipio'\n",
    ")\n",
    "\n",
    "df_addresses"
   ]
  },
  {
   "cell_type": "code",
   "execution_count": null,
   "metadata": {},
   "outputs": [],
   "source": [
    "df_addresses.to_csv(\n",
    "    os.path.join('data', 'tabs', 'tab_municipios_cetesb.csv'),\n",
    "    index=False,\n",
    ")"
   ]
  },
  {
   "cell_type": "code",
   "execution_count": null,
   "metadata": {},
   "outputs": [],
   "source": [
    "# Create copy\n",
    "df = df_addresses\n",
    "\n",
    "# Get column's name\n",
    "columns = list(df.columns[3:-1])\n",
    "columns\n",
    "\n",
    "# Group\n",
    "df = pd.DataFrame(df.groupby(columns)['id_municipio'].count())\n",
    "df = df.reset_index()\n",
    "df.drop(df.columns[len(df.columns)-1], axis=1, inplace=True)\n",
    "\n",
    "# Save\n",
    "df.to_csv(\n",
    "    os.path.join('data', 'tabs', 'tab_cetesb.csv'),\n",
    "    index=False,    \n",
    ")\n",
    "\n",
    "# Results\n",
    "df.head()"
   ]
  },
  {
   "cell_type": "markdown",
   "metadata": {},
   "source": [
    "___\n",
    "\n",
    "# Encerramento"
   ]
  },
  {
   "cell_type": "markdown",
   "metadata": {},
   "source": [
    "## *Requirements*"
   ]
  },
  {
   "cell_type": "code",
   "execution_count": null,
   "metadata": {},
   "outputs": [],
   "source": [
    "# Input\n",
    "inp = 'get_infos.ipynb'\n",
    "\n",
    "# Output\n",
    "out = os.path.join(inp.split('.')[0])\n",
    "!jupyter-nbconvert $inp --to python --output $out\n",
    "\n",
    "print('-'*80)\n",
    "!pipreqs '.' --force --debug\n",
    "\n",
    "print('-'*80)\n",
    "os.remove('{}.py'.format(out))\n",
    "print('Arquivo {}.py deletado com sucesso!'.format(out))"
   ]
  },
  {
   "cell_type": "markdown",
   "metadata": {},
   "source": [
    "## *GitHub*"
   ]
  },
  {
   "cell_type": "code",
   "execution_count": null,
   "metadata": {},
   "outputs": [],
   "source": [
    "!nbstripout --install --attributes .gitattributes\n",
    "!git status\n",
    "!git add .\n",
    "!git commit -m 'Arrumações Gerais'\n",
    "!git push origin main"
   ]
  }
 ],
 "metadata": {
  "kernelspec": {
   "display_name": "Python [conda env:pablocarreira-py38] *",
   "language": "python",
   "name": "conda-env-pablocarreira-py38-py"
  },
  "language_info": {
   "codemirror_mode": {
    "name": "ipython",
    "version": 3
   },
   "file_extension": ".py",
   "mimetype": "text/x-python",
   "name": "python",
   "nbconvert_exporter": "python",
   "pygments_lexer": "ipython3",
   "version": "3.8.8"
  },
  "toc": {
   "base_numbering": 1,
   "nav_menu": {},
   "number_sections": true,
   "sideBar": true,
   "skip_h1_title": false,
   "title_cell": "Table of Contents",
   "title_sidebar": "Contents",
   "toc_cell": false,
   "toc_position": {},
   "toc_section_display": true,
   "toc_window_display": true
  },
  "toc-autonumbering": true,
  "toc-showcode": false
 },
 "nbformat": 4,
 "nbformat_minor": 4
}

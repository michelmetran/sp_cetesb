{
 "cells": [
  {
   "attachments": {},
   "cell_type": "markdown",
   "id": "65cc69c2",
   "metadata": {
    "pycharm": {
     "name": "#%% md\n"
    }
   },
   "source": [
    "<br>\n",
    "\n",
    "# Introdução\n",
    "\n",
    "Este _script_ tem objetivo de fazer a transformação das tabelas em mapas.\n"
   ]
  },
  {
   "cell_type": "code",
   "execution_count": null,
   "metadata": {},
   "outputs": [],
   "source": [
    "#!pip3 install geopandas --upgrade\n",
    "#!pip3 install open_geodata --upgrade\n",
    "#!pip3 install selenium\n",
    "!pip3 install pyarrow"
   ]
  },
  {
   "cell_type": "code",
   "execution_count": null,
   "metadata": {
    "collapsed": false,
    "pycharm": {
     "name": "#%%\n"
    }
   },
   "outputs": [],
   "source": [
    "import geopandas as gpd\n",
    "import pandas as pd\n",
    "from open_geodata import geo\n",
    "from paths import output_path_geojson, output_path_gpkg, output_path_tab"
   ]
  },
  {
   "attachments": {},
   "cell_type": "markdown",
   "metadata": {
    "collapsed": false,
    "pycharm": {
     "name": "#%% md\n"
    }
   },
   "source": [
    "<br>\n",
    "\n",
    "## Join Data\n",
    "\n",
    "Inicialmente lemos os dados tabulares.\n"
   ]
  },
  {
   "cell_type": "code",
   "execution_count": null,
   "metadata": {
    "collapsed": false,
    "pycharm": {
     "name": "#%%\n"
    }
   },
   "outputs": [],
   "source": [
    "# Lê o arquivo csv com o nome dos municípios\n",
    "df = pd.read_csv(\n",
    "    output_path_tab / 'tab_cetesb_municipios.csv',\n",
    ")\n",
    "\n",
    "# Results\n",
    "df.info()\n",
    "df.head(2)"
   ]
  },
  {
   "attachments": {},
   "cell_type": "markdown",
   "id": "4a539a55",
   "metadata": {},
   "source": [
    "<br>\n",
    "\n",
    "Criamos um geodatafram com a delimitação dos municípios no estado de São Paulo.\n"
   ]
  },
  {
   "cell_type": "code",
   "execution_count": null,
   "metadata": {},
   "outputs": [],
   "source": [
    "gdf = geo.load_dataset('geo.sp.sp_250k_wgs84')\n",
    "\n",
    "# # Lê o arquivo csv com o nome dos municípios\n",
    "gdf = gdf.drop(['municipio_nome'], axis=1, inplace=False)\n",
    "\n",
    "# Results\n",
    "gdf.info()\n",
    "gdf.head()"
   ]
  },
  {
   "cell_type": "code",
   "execution_count": null,
   "metadata": {
    "collapsed": false,
    "pycharm": {
     "name": "#%%\n"
    }
   },
   "outputs": [],
   "source": [
    "# gdf['id_municipio'] = gdf['id_municipio'].astype(int)\n",
    "gdf['geometry'] = gdf.simplify(0.0015)\n",
    "\n",
    "# Results\n",
    "gdf.info()\n",
    "gdf.head()"
   ]
  },
  {
   "attachments": {},
   "cell_type": "markdown",
   "id": "1c6b8e18",
   "metadata": {},
   "source": [
    "<br>\n",
    "\n",
    "E concatenamos as informações.\n"
   ]
  },
  {
   "cell_type": "code",
   "execution_count": null,
   "metadata": {
    "collapsed": false,
    "pycharm": {
     "name": "#%%\n"
    }
   },
   "outputs": [],
   "source": [
    "# Merge\n",
    "gdf = gdf.merge(df, on='id_municipio', how='left')\n",
    "\n",
    "# Results\n",
    "gdf.info()\n",
    "gdf.head()"
   ]
  },
  {
   "attachments": {},
   "cell_type": "markdown",
   "metadata": {
    "collapsed": false,
    "pycharm": {
     "name": "#%% md\n"
    }
   },
   "source": [
    "<br>\n",
    "\n",
    "## Save geojson\n",
    "\n",
    "Salvamos os resultados.\n"
   ]
  },
  {
   "cell_type": "code",
   "execution_count": null,
   "metadata": {},
   "outputs": [],
   "source": [
    "gdf.to_file(\n",
    "    output_path_gpkg / 'sp_cetesb.gpkg',\n",
    "    layer='sp_cetesb',\n",
    "    driver='GPKG',    \n",
    ")"
   ]
  },
  {
   "cell_type": "code",
   "execution_count": null,
   "metadata": {
    "collapsed": false,
    "pycharm": {
     "name": "#%%\n"
    }
   },
   "outputs": [],
   "source": [
    "gdf.to_file(\n",
    "    output_path_geojson / 'sp_cetesb.geojson',\n",
    "    driver='GeoJSON',\n",
    "    encoding='utf-8',\n",
    ")\n",
    "\n",
    "# Results\n",
    "gdf.head()"
   ]
  },
  {
   "cell_type": "code",
   "execution_count": null,
   "id": "cc714e50-ee98-4352-8524-557889fdabf2",
   "metadata": {
    "pycharm": {
     "name": "#%%\n"
    }
   },
   "outputs": [],
   "source": [
    "gdf.explore(column='agencia')"
   ]
  },
  {
   "cell_type": "code",
   "execution_count": null,
   "id": "e27c5a1b",
   "metadata": {},
   "outputs": [],
   "source": []
  }
 ],
 "metadata": {
  "kernelspec": {
   "display_name": "pablocarreira-lastest",
   "language": "python",
   "name": "python3"
  },
  "language_info": {
   "codemirror_mode": {
    "name": "ipython",
    "version": 3
   },
   "file_extension": ".py",
   "mimetype": "text/x-python",
   "name": "python",
   "nbconvert_exporter": "python",
   "pygments_lexer": "ipython3",
   "version": "3.10.13"
  },
  "toc-autonumbering": true,
  "vscode": {
   "interpreter": {
    "hash": "3eff2e4eec0fbea9d660dbbf3c9c38e7f3540f855f42d9d14e44150e78f59c2a"
   }
  }
 },
 "nbformat": 4,
 "nbformat_minor": 5
}

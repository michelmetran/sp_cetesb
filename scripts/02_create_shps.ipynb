{
 "cells": [
  {
   "cell_type": "markdown",
   "id": "65cc69c2",
   "metadata": {
    "pycharm": {
     "name": "#%% md\n"
    }
   },
   "source": [
    "<br>\n",
    "\n",
    "# Introdução"
   ]
  },
  {
   "cell_type": "code",
   "execution_count": null,
   "id": "eb5d9a9f",
   "metadata": {
    "pycharm": {
     "name": "#%%\n"
    }
   },
   "outputs": [],
   "source": [
    "import os\n",
    "import pandas as pd\n",
    "import geopandas as gpd\n",
    "#from tqdm.notebook import trange, tqdm"
   ]
  },
  {
   "cell_type": "code",
   "execution_count": null,
   "id": "b1f33074",
   "metadata": {
    "pycharm": {
     "name": "#%%\n"
    }
   },
   "outputs": [],
   "source": [
    "from paths import *"
   ]
  },
  {
   "cell_type": "code",
   "execution_count": null,
   "id": "066f53c1",
   "metadata": {
    "pycharm": {
     "name": "#%%\n"
    }
   },
   "outputs": [],
   "source": [
    "from open_geodata import geo"
   ]
  },
  {
   "cell_type": "markdown",
   "id": "f22c159a",
   "metadata": {
    "pycharm": {
     "name": "#%% md\n"
    }
   },
   "source": [
    "<br>\n",
    "\n",
    "## Join Data"
   ]
  },
  {
   "cell_type": "code",
   "execution_count": null,
   "id": "43c8de8e",
   "metadata": {
    "pycharm": {
     "name": "#%%\n"
    }
   },
   "outputs": [],
   "source": [
    "# Lê o arquivo csv com o nome dos municípios\n",
    "df = pd.read_csv(\n",
    "    os.path.join(output_path_tab, 'tab_municipio_cetesb.csv'),\n",
    ")"
   ]
  },
  {
   "cell_type": "code",
   "execution_count": null,
   "id": "735a7398",
   "metadata": {
    "pycharm": {
     "name": "#%%\n"
    }
   },
   "outputs": [],
   "source": [
    "gdf = geo.load_dataset('sp_250k_wgs84')\n",
    "gdf.info()"
   ]
  },
  {
   "cell_type": "code",
   "execution_count": null,
   "id": "6a4a8de2",
   "metadata": {
    "pycharm": {
     "name": "#%%\n"
    }
   },
   "outputs": [],
   "source": [
    "# # Lê o arquivo csv com o nome dos municípios\n",
    "# gdf = gpd.read_file(\n",
    "#     'https://raw.githubusercontent.com/michelmetran/sp/main/data/shps/sp_250k_wgs84.geojson',\n",
    "# )\n",
    "gdf.drop(['municipio_nome'], axis=1, inplace=True)\n",
    "# gdf['id_municipio'] = gdf['id_municipio'].astype(int)\n",
    "gdf['geometry'] = gdf.simplify(0.0015)\n",
    "\n",
    "# Merge\n",
    "gdf = gdf.merge(\n",
    "    df,\n",
    "    on='id_municipio',\n",
    "    how='left'\n",
    ")\n",
    "\n",
    "# Results\n",
    "gdf.head()"
   ]
  },
  {
   "cell_type": "markdown",
   "id": "77833644",
   "metadata": {
    "pycharm": {
     "name": "#%% md\n"
    }
   },
   "source": [
    "<br>\n",
    "\n",
    "## Save geojson"
   ]
  },
  {
   "cell_type": "code",
   "execution_count": null,
   "id": "d3bf9819",
   "metadata": {
    "pycharm": {
     "name": "#%%\n"
    }
   },
   "outputs": [],
   "source": [
    "gdf.to_file(\n",
    "    os.path.join(output_path_geo, 'sp_cetesb.geojson'),\n",
    "    driver='GeoJSON',\n",
    "    encoding='utf-8'\n",
    ")\n",
    "\n",
    "gdf.to_file(\n",
    "    os.path.join(output_path_geo, 'sp_cetesb.gpkg'),\n",
    "    layer='sp_cetesb',\n",
    "    driver='GPKG',\n",
    ")\n",
    "\n",
    "# Results\n",
    "gdf.head()"
   ]
  },
  {
   "cell_type": "code",
   "execution_count": null,
   "id": "cc714e50-ee98-4352-8524-557889fdabf2",
   "metadata": {
    "pycharm": {
     "name": "#%%\n"
    }
   },
   "outputs": [],
   "source": []
  }
 ],
 "metadata": {
  "interpreter": {
   "hash": "2bdda54bf0f28693adab761d90c570fb0a7faa3609b365313c0b5d078440c060"
  },
  "kernelspec": {
   "display_name": "Python 3 (ipykernel)",
   "language": "python",
   "name": "python3"
  },
  "language_info": {
   "codemirror_mode": {
    "name": "ipython",
    "version": 3
   },
   "file_extension": ".py",
   "mimetype": "text/x-python",
   "name": "python",
   "nbconvert_exporter": "python",
   "pygments_lexer": "ipython3",
   "version": "3.9.12"
  },
  "toc-autonumbering": true
 },
 "nbformat": 4,
 "nbformat_minor": 5
}

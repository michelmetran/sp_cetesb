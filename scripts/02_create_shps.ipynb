{
 "cells": [
  {
   "attachments": {},
   "cell_type": "markdown",
   "id": "65cc69c2",
   "metadata": {
    "pycharm": {
     "name": "#%% md\n"
    }
   },
   "source": [
    "<br>\n",
    "\n",
    "# Introdução\n",
    "\n",
    "Este *script* tem objetivo de fazer a transformação das tabelas em mapas."
   ]
  },
  {
   "cell_type": "code",
   "execution_count": null,
   "id": "025f2261",
   "metadata": {
    "pycharm": {
     "name": "#%%\n"
    }
   },
   "outputs": [],
   "source": [
    "import geopandas as gpd\n",
    "import pandas as pd\n",
    "from open_geodata import geo\n",
    "from paths import output_path_tab, output_path_gpkg, output_path_geojson\n"
   ]
  },
  {
   "attachments": {},
   "cell_type": "markdown",
   "id": "ebe94c35",
   "metadata": {
    "pycharm": {
     "name": "#%% md\n"
    }
   },
   "source": [
    "<br>\n",
    "\n",
    "## Join Data\n",
    "\n",
    "Inicialmente lemos os dados tabulares."
   ]
  },
  {
   "cell_type": "code",
   "execution_count": null,
   "id": "ed83377d",
   "metadata": {
    "pycharm": {
     "name": "#%%\n"
    }
   },
   "outputs": [],
   "source": [
    "# Lê o arquivo csv com o nome dos municípios\n",
    "df = pd.read_csv(\n",
    "    output_path_tab / 'tab_cetesb_municipios.csv',\n",
    ")"
   ]
  },
  {
   "attachments": {},
   "cell_type": "markdown",
   "id": "4a539a55",
   "metadata": {},
   "source": [
    "<br>\n",
    "\n",
    "Criamos um geodatafram com a delimitação dos municípios no estado de São Paulo."
   ]
  },
  {
   "cell_type": "code",
   "execution_count": null,
   "id": "ee9b5070",
   "metadata": {
    "pycharm": {
     "name": "#%%\n"
    }
   },
   "outputs": [],
   "source": [
    "gdf = geo.load_dataset('geo.sp.sp_250k_wgs84')\n",
    "\n",
    "# # Lê o arquivo csv com o nome dos municípios\n",
    "gdf.drop(['municipio_nome'], axis=1, inplace=True)\n",
    "# gdf['id_municipio'] = gdf['id_municipio'].astype(int)\n",
    "gdf['geometry'] = gdf.simplify(0.0015)\n",
    "\n",
    "# Results\n",
    "gdf.info()\n",
    "gdf.head()"
   ]
  },
  {
   "attachments": {},
   "cell_type": "markdown",
   "id": "1c6b8e18",
   "metadata": {},
   "source": [
    "<br>\n",
    "\n",
    "E concatenamos as informações."
   ]
  },
  {
   "cell_type": "code",
   "execution_count": null,
   "id": "ae78815b",
   "metadata": {
    "pycharm": {
     "name": "#%%\n"
    }
   },
   "outputs": [],
   "source": [
    "# Merge\n",
    "gdf = gdf.merge(\n",
    "    df,\n",
    "    on='id_municipio',\n",
    "    how='left'\n",
    ")\n",
    "\n",
    "\n",
    "# Results\n",
    "gdf.info()\n",
    "gdf.head()"
   ]
  },
  {
   "attachments": {},
   "cell_type": "markdown",
   "id": "5f723e73",
   "metadata": {
    "pycharm": {
     "name": "#%% md\n"
    }
   },
   "source": [
    "<br>\n",
    "\n",
    "## Save geojson\n",
    "\n",
    "Salvamos os resultados."
   ]
  },
  {
   "cell_type": "code",
   "execution_count": null,
   "id": "52b91073",
   "metadata": {
    "pycharm": {
     "name": "#%%\n"
    }
   },
   "outputs": [],
   "source": [
    "gdf.to_file(\n",
    "    output_path_geojson / 'sp_cetesb.geojson',\n",
    "    driver='GeoJSON',\n",
    "    encoding='utf-8'\n",
    ")\n",
    "\n",
    "gdf.to_file(\n",
    "    output_path_gpkg / 'sp_cetesb.gpkg',\n",
    "    layer='sp_cetesb',\n",
    "    driver='GPKG',\n",
    ")\n",
    "\n",
    "# Results\n",
    "gdf.head()"
   ]
  },
  {
   "cell_type": "code",
   "execution_count": null,
   "id": "cc714e50-ee98-4352-8524-557889fdabf2",
   "metadata": {
    "pycharm": {
     "name": "#%%\n"
    }
   },
   "outputs": [],
   "source": [
    "gdf.explore(column='agencia')\n"
   ]
  },
  {
   "cell_type": "code",
   "execution_count": null,
   "id": "e27c5a1b",
   "metadata": {},
   "outputs": [],
   "source": []
  }
 ],
 "metadata": {
  "kernelspec": {
   "display_name": "pablocarreira-lastest",
   "language": "python",
   "name": "python3"
  },
  "language_info": {
   "codemirror_mode": {
    "name": "ipython",
    "version": 3
   },
   "file_extension": ".py",
   "mimetype": "text/x-python",
   "name": "python",
   "nbconvert_exporter": "python",
   "pygments_lexer": "ipython3",
   "version": "3.10.8"
  },
  "toc-autonumbering": true,
  "vscode": {
   "interpreter": {
    "hash": "3eff2e4eec0fbea9d660dbbf3c9c38e7f3540f855f42d9d14e44150e78f59c2a"
   }
  }
 },
 "nbformat": 4,
 "nbformat_minor": 5
}

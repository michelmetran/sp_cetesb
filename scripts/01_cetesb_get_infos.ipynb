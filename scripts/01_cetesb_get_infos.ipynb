{
 "cells": [
  {
   "cell_type": "markdown",
   "metadata": {},
   "source": [
    "<br>\n",
    "\n",
    "# Introdução\n",
    "\n",
    "*Script* que cria uma tabela que apresenta informações das Agências Ambientais da CETESB que atuam nos 645 município deo Estado de São Paulo."
   ]
  },
  {
   "cell_type": "code",
   "execution_count": null,
   "metadata": {},
   "outputs": [],
   "source": [
    "#!pip3 install open-geodata --upgrade"
   ]
  },
  {
   "cell_type": "code",
   "execution_count": null,
   "metadata": {},
   "outputs": [],
   "source": [
    "import os\n",
    "import urllib.parse\n",
    "\n",
    "import numpy as np\n",
    "import pandas as pd\n",
    "import requests\n",
    "from bs4 import BeautifulSoup\n",
    "from open_geodata import geo\n",
    "from paths import *"
   ]
  },
  {
   "cell_type": "markdown",
   "metadata": {},
   "source": [
    "<br>\n",
    "\n",
    "# Função"
   ]
  },
  {
   "cell_type": "code",
   "execution_count": null,
   "metadata": {},
   "outputs": [],
   "source": [
    "def get_agencia_ambiental(mun):\n",
    "    \"\"\"\n",
    "    Obtem informações de um dado município\n",
    "    https://licenciamento.cetesb.sp.gov.br/municipioss.asp?muni=SANTOS\n",
    "\n",
    "    :param mun: _description_\n",
    "    :type mun: _type_\n",
    "    :return: _description_\n",
    "    :rtype: _type_\n",
    "    \"\"\"\n",
    "    # Município\n",
    "    mun_url = mun.encode('ISO-8859-1')\n",
    "    mun_url = urllib.parse.quote(mun_url)\n",
    "    print(f'{mun} > {mun_url}')\n",
    "    \n",
    "    # Set URL\n",
    "    url = f'https://licenciamento.cetesb.sp.gov.br/municipioss.asp?muni={mun_url}'\n",
    "    \n",
    "    # Get Data\n",
    "    r = requests.get(url)\n",
    "    soup = BeautifulSoup(r.content, 'html.parser')\n",
    "    #time.sleep(1)\n",
    "\n",
    "    # Get all relevant data\n",
    "    table = soup.find('table',  attrs={'width': '300'})\n",
    "    rows = table.find_all('tr')\n",
    "    \n",
    "    # Create List Adress\n",
    "    list_end = [mun]\n",
    "    for row in rows:\n",
    "        text = row.get_text()\n",
    "        text = ' '.join(text.split())\n",
    "        text = text.strip()\n",
    "        list_end.append(text)\n",
    "    \n",
    "    # Rename List    \n",
    "    for i in ['Bairro:', 'Cidade:', 'CEP:', 'Fone:', 'Fax:', 'E-mail:']:\n",
    "        list_end = np.char.replace(list_end, i, '')\n",
    "    list_end = [x.strip() for x in list_end]\n",
    "    \n",
    "    # Format Variables\n",
    "    cep = '{:08d}'.format(int(list_end[5]))\n",
    "    tel = list_end[6].strip().replace(' ', '').replace('-', ' ')\n",
    "    fax = list_end[7].strip().replace(' ', '').replace('-', ' ')\n",
    "    \n",
    "    # Create Dictionary\n",
    "    return {\n",
    "        'municipio_cetesb' : list_end[0],\n",
    "        'agencia'          : list_end[1],\n",
    "        'endereco'         : list_end[2].split('nº')[0].strip(),\n",
    "        'numero'           : list_end[2].split('nº')[1].strip(),\n",
    "        'bairro'           : list_end[3],\n",
    "        'municipio_sede'   : list_end[4].title(),\n",
    "        'cep'              : '{}-{}'.format(cep[:5], cep[5:8]),\n",
    "        'telefone'         : '({}) {}-{}'.format(tel[:2], tel[3:7], tel[7:]),\n",
    "        'fax'              : '({}) {}-{}'.format(fax[:2], fax[3:7], fax[7:]),\n",
    "        'email'            : list_end[8],\n",
    "        'url'              : url\n",
    "    }"
   ]
  },
  {
   "cell_type": "markdown",
   "metadata": {},
   "source": [
    "Uma vez que a função foi definida, basta fazer um teste. Escolhi o município de Piracicaba, pois não tem acentos e grafias divergentes nas diferentes bases de dados."
   ]
  },
  {
   "cell_type": "code",
   "execution_count": null,
   "metadata": {},
   "outputs": [],
   "source": [
    "get_agencia_ambiental('Caraguatatuba')"
   ]
  },
  {
   "cell_type": "markdown",
   "metadata": {},
   "source": [
    "<br>\n",
    "\n",
    "# *Loop*\n",
    "\n",
    "Há municípios que apresentam apóstrofo e muitas vezes é escrito como acento ou até mesmo divergência na grafia do nome do município, por exemplo, \"Moji Mirim\" e \"Mogi Mirim\". Por isso, optei por ler uma tabela que tem os nomes dos municípios utilizados pela CETESB e, uma vez que fiz isso, basta inserir o nome que a instituição padronizou, por meio de um *loop* (*for*)."
   ]
  },
  {
   "cell_type": "code",
   "execution_count": null,
   "metadata": {},
   "outputs": [],
   "source": [
    "# Read Dataframe\n",
    "df = pd.read_csv(\n",
    "    input_path / 'tab_municipios.csv',\n",
    ")\n",
    "\n",
    "# Filtrar os 10 primeiros\n",
    "# TODO: Se filtrar, dá erro depois\n",
    "#df = df[:10]\n",
    "\n",
    "# Results\n",
    "df.head()"
   ]
  },
  {
   "cell_type": "code",
   "execution_count": null,
   "metadata": {},
   "outputs": [],
   "source": [
    "# Create empty list\n",
    "list_addresses = []\n",
    "\n",
    "#df = df[0:4]  # For tests only\n",
    "for index, row in df.iterrows():\n",
    "    # Create Small Dictionary\n",
    "    dict_df = {\n",
    "        'id_municipio': row['id_municipio'],        \n",
    "    }\n",
    "    \n",
    "    # Get Addresses\n",
    "    list_address = get_agencia_ambiental(row['municipio_cetesb'])\n",
    "    list_address = {**dict_df, **list_address}\n",
    "    list_addresses.append(list_address)"
   ]
  },
  {
   "cell_type": "markdown",
   "metadata": {},
   "source": [
    "<br>\n",
    "\n",
    "# Tabela Municípios"
   ]
  },
  {
   "cell_type": "code",
   "execution_count": null,
   "metadata": {},
   "outputs": [],
   "source": [
    "# Create Table from dictionarys\n",
    "df = pd.DataFrame.from_dict(list_addresses)\n",
    "\n",
    "# Results\n",
    "df.head()"
   ]
  },
  {
   "cell_type": "code",
   "execution_count": null,
   "metadata": {},
   "outputs": [],
   "source": [
    "df_mun = geo.load_dataset('tab.sp.tab_municipio_nome')\n",
    "\n",
    "df_mun.info()\n",
    "df_mun.head()"
   ]
  },
  {
   "cell_type": "code",
   "execution_count": null,
   "metadata": {},
   "outputs": [],
   "source": [
    "# Merge\n",
    "df = pd.merge(\n",
    "    df_mun,\n",
    "    df,\n",
    "    how='left',\n",
    "    left_on='id_municipio',\n",
    "    right_on='id_municipio'\n",
    ")\n",
    "\n",
    "# Results\n",
    "df.head()"
   ]
  },
  {
   "cell_type": "code",
   "execution_count": null,
   "metadata": {},
   "outputs": [],
   "source": [
    "# Split\n",
    "df[['endereco','complemento']] = df['endereco'].str.split(' - ', expand=True)\n",
    "\n",
    "# Reorder\n",
    "cols = df.columns.tolist()\n",
    "cols = cols[0:5] + [cols[-1]] + cols[5:-1]\n",
    "df = df[cols]"
   ]
  },
  {
   "cell_type": "code",
   "execution_count": null,
   "metadata": {},
   "outputs": [],
   "source": [
    "def rename_nome(x):\n",
    "    x = x.title()\n",
    "    x = x.strip()\n",
    "    dict_rename = {\n",
    "        # Nome\n",
    "        'Av ': 'Av. ',\n",
    "        'Av. ': 'Avenida ',\n",
    "        ' Joao ': ' João ',\n",
    "        'Ten.'    : 'Tenente',\n",
    "        \n",
    "        # Basics\n",
    "        ' Com '  : ' com ',\n",
    "        ' Sobre ': ' sobre ',\n",
    "        ' Da '   : ' da ',\n",
    "        ' De '   : ' de ',\n",
    "        ' Do '   : ' do ',\n",
    "        ' Das '  : ' das ',\n",
    "        ' Dos '  : ' dos ',\n",
    "        ' A '    : ' a ',\n",
    "        ' As '   : ' as ',\n",
    "        ' Ao '   : ' ao ',\n",
    "        ' Aos '  : ' aos ',\n",
    "        ' E '    : ' e ',\n",
    "        ' O '    : ' o ',\n",
    "        ' Os '   : ' os ',\n",
    "        \n",
    "        '(11) -' : '',\n",
    "        '( ) -'  : '',\n",
    "        \n",
    "        \n",
    "        'Jd. '  : 'Jardim ',\n",
    "        'V. '   : 'Vila ',\n",
    "        'Sta.': 'Santa',\n",
    "        'Pq. '   : 'Parque ',\n",
    "        'Res.': 'Residencial ',\n",
    "        ' Sao ' : ' São ',\n",
    "        'J.S. Marcos': 'Jardim São Marcos',\n",
    "        'Jardim-': 'Jardim -',\n",
    "        'Xxiii': 'XXIII',\n",
    "        'Ii': 'II',\n",
    "\n",
    "        # Empty\n",
    "        'None' : '',\n",
    "        'none' : '',\n",
    "    }\n",
    "    for k, v in dict_rename.items():\n",
    "        x = x.replace(k, v)\n",
    "    x = x.replace('  ', ' ')\n",
    "    return x.strip()"
   ]
  },
  {
   "cell_type": "code",
   "execution_count": null,
   "metadata": {},
   "outputs": [],
   "source": [
    "# Adjust Table\n",
    "df.loc[:, 'endereco'] = df['endereco'].astype(str).apply(lambda x: rename_nome(x))\n",
    "df.loc[:, 'bairro'] = df['bairro'].astype(str).apply(lambda x: rename_nome(x))\n",
    "df.loc[:, 'municipio_sede'] = df['municipio_sede'].astype(str).apply(lambda x: rename_nome(x))\n",
    "df.loc[:, 'fax'] = df['fax'].astype(str).apply(lambda x: rename_nome(x))\n",
    "df.loc[:, 'complemento'] = df['complemento'].astype(str).apply(lambda x: rename_nome(x))\n",
    "\n",
    "# Results\n",
    "df.head()"
   ]
  },
  {
   "cell_type": "code",
   "execution_count": null,
   "metadata": {},
   "outputs": [],
   "source": [
    "#set(df['agencia'])\n",
    "#set(df['endereco'])\n",
    "#set(df['numero'])\n",
    "#set(df['bairro'])\n",
    "#set(df['municipio_sede'])\n",
    "#set(df['cep'])\n",
    "#set(df['telefone'])\n",
    "#set(df['fax'])\n",
    "#set(df['email'])"
   ]
  },
  {
   "cell_type": "code",
   "execution_count": null,
   "metadata": {},
   "outputs": [],
   "source": [
    "# Deleta colunas\n",
    "df.drop(['municipio_cetesb'], axis=1, inplace=True)\n",
    "\n",
    "# Results\n",
    "df.head()"
   ]
  },
  {
   "cell_type": "code",
   "execution_count": null,
   "metadata": {},
   "outputs": [],
   "source": [
    "# Save\n",
    "df.to_csv(\n",
    "    output_path_tab / 'tab_municipio_cetesb.csv',\n",
    "    index=False,\n",
    ")"
   ]
  },
  {
   "cell_type": "markdown",
   "metadata": {},
   "source": [
    "<br>\n",
    "\n",
    "# Tabela CETESB"
   ]
  },
  {
   "cell_type": "code",
   "execution_count": null,
   "metadata": {},
   "outputs": [],
   "source": [
    "# Save\n",
    "df = pd.read_csv(\n",
    "    output_path_tab / 'tab_municipio_cetesb.csv',\n",
    ")\n",
    "df.head()"
   ]
  },
  {
   "cell_type": "code",
   "execution_count": null,
   "metadata": {},
   "outputs": [],
   "source": [
    "# Get column's name\n",
    "cols = list(df.columns[2:-1])\n",
    "cols"
   ]
  },
  {
   "cell_type": "code",
   "execution_count": null,
   "metadata": {},
   "outputs": [],
   "source": [
    "# Group\n",
    "df = pd.DataFrame(df.groupby(cols, dropna=False)['id_municipio'].count())\n",
    "df.reset_index(inplace=True)\n",
    "\n",
    "# Results\n",
    "df.head()"
   ]
  },
  {
   "cell_type": "code",
   "execution_count": null,
   "metadata": {},
   "outputs": [],
   "source": [
    "df.columns[len(df.columns)-1]"
   ]
  },
  {
   "cell_type": "code",
   "execution_count": null,
   "metadata": {},
   "outputs": [],
   "source": [
    "df.drop(df.columns[len(df.columns)-1], axis=1, inplace=True)\n",
    "\n",
    "# Results\n",
    "df.head()"
   ]
  },
  {
   "cell_type": "code",
   "execution_count": null,
   "metadata": {},
   "outputs": [],
   "source": [
    "# Save\n",
    "df.to_csv(\n",
    "    os.path.join(output_path_tab, 'tab_cetesb.csv'),\n",
    "    index=False,    \n",
    ")\n",
    "\n",
    "# Results\n",
    "df.head()"
   ]
  },
  {
   "cell_type": "code",
   "execution_count": null,
   "metadata": {},
   "outputs": [],
   "source": []
  }
 ],
 "metadata": {
  "kernelspec": {
   "display_name": "pablocarreira-lastest",
   "language": "python",
   "name": "python3"
  },
  "language_info": {
   "codemirror_mode": {
    "name": "ipython",
    "version": 3
   },
   "file_extension": ".py",
   "mimetype": "text/x-python",
   "name": "python",
   "nbconvert_exporter": "python",
   "pygments_lexer": "ipython3",
   "version": "3.10.8"
  },
  "toc": {
   "base_numbering": 1,
   "nav_menu": {},
   "number_sections": true,
   "sideBar": true,
   "skip_h1_title": false,
   "title_cell": "Table of Contents",
   "title_sidebar": "Contents",
   "toc_cell": false,
   "toc_position": {},
   "toc_section_display": true,
   "toc_window_display": true
  },
  "toc-autonumbering": true,
  "toc-showcode": false,
  "vscode": {
   "interpreter": {
    "hash": "3eff2e4eec0fbea9d660dbbf3c9c38e7f3540f855f42d9d14e44150e78f59c2a"
   }
  }
 },
 "nbformat": 4,
 "nbformat_minor": 4
}

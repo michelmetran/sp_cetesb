{
 "cells": [
  {
   "attachments": {},
   "cell_type": "markdown",
   "id": "0b46481f",
   "metadata": {},
   "source": [
    "<br>\n",
    "\n",
    "# Introdução\n"
   ]
  },
  {
   "cell_type": "code",
   "execution_count": 1,
   "id": "f361a09a",
   "metadata": {},
   "outputs": [],
   "source": [
    "#!pip3 install open-geodata --upgrade"
   ]
  },
  {
   "cell_type": "code",
   "execution_count": 2,
   "id": "511e579d",
   "metadata": {},
   "outputs": [],
   "source": [
    "from open_geodata import converts\n",
    "from paths import output_path_gpkg, output_path_geo"
   ]
  },
  {
   "attachments": {},
   "cell_type": "markdown",
   "id": "c4ee27d2",
   "metadata": {},
   "source": [
    "<br>\n",
    "\n",
    "## GPKC para 7ZIP\n"
   ]
  },
  {
   "cell_type": "code",
   "execution_count": 3,
   "id": "62813f0f-960d-43fb-9f4f-4ef393a6c967",
   "metadata": {
    "pycharm": {
     "name": "#%%\n"
    }
   },
   "outputs": [
    {
     "name": "stdout",
     "output_type": "stream",
     "text": [
      "Arquivo \"sp_cetesb.gpkg\" convertido para \"sp_cetesb.7z\"\n",
      "Foram convertidos 1 arquivos com sucesso!\n"
     ]
    },
    {
     "data": {
      "text/plain": [
       "0"
      ]
     },
     "execution_count": 3,
     "metadata": {},
     "output_type": "execute_result"
    }
   ],
   "source": [
    "converts.files.convert_to_7zip(output_path_gpkg, output_path_geo)"
   ]
  },
  {
   "cell_type": "code",
   "execution_count": null,
   "id": "b3a7efcb",
   "metadata": {},
   "outputs": [],
   "source": []
  }
 ],
 "metadata": {
  "kernelspec": {
   "display_name": "Python 3.9.12 ('pablocarreira-py39')",
   "language": "python",
   "name": "python3"
  },
  "language_info": {
   "codemirror_mode": {
    "name": "ipython",
    "version": 3
   },
   "file_extension": ".py",
   "mimetype": "text/x-python",
   "name": "python",
   "nbconvert_exporter": "python",
   "pygments_lexer": "ipython3",
   "version": "3.10.13"
  },
  "vscode": {
   "interpreter": {
    "hash": "f37c76b4b024ed38c9f50f17f9e6defabebb1e5c97323517c6e8bca54ae41c65"
   }
  }
 },
 "nbformat": 4,
 "nbformat_minor": 5
}

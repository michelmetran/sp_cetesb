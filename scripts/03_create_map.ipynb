{
 "cells": [
  {
   "attachments": {},
   "cell_type": "markdown",
   "id": "ed28993b-4743-4f8a-8f25-ba0e992f97bd",
   "metadata": {
    "pycharm": {
     "name": "#%% md\n"
    }
   },
   "source": [
    "<br>\n",
    "\n",
    "# Introdução\n"
   ]
  },
  {
   "cell_type": "code",
   "execution_count": null,
   "id": "48463a25-e0b1-4f99-b6bf-090098c8b336",
   "metadata": {
    "pycharm": {
     "name": "#%%\n"
    }
   },
   "outputs": [],
   "source": [
    "import os\n",
    "import re\n",
    "\n",
    "import folium\n",
    "import geopandas as gpd\n",
    "import pandas as pd\n",
    "import seaborn as sns\n",
    "from folium import plugins\n",
    "from open_geodata import lyr\n",
    "from paths import *\n",
    "from tqdm.notebook import tqdm, trange\n",
    "\n",
    "# import random\n",
    "# import requests\n",
    "# from osgeo import gdal, osr\n",
    "# from bs4 import BeautifulSoup\n",
    "# import numpy as np\n"
   ]
  },
  {
   "attachments": {},
   "cell_type": "markdown",
   "id": "ca402bd2-7f40-474d-8d3c-459b612c6b1e",
   "metadata": {
    "pycharm": {
     "name": "#%% md\n"
    }
   },
   "source": [
    "<br>\n",
    "\n",
    "## Read Data\n"
   ]
  },
  {
   "cell_type": "code",
   "execution_count": null,
   "id": "f051b850-15f6-49ad-a75f-740795aa7327",
   "metadata": {
    "pycharm": {
     "name": "#%%\n"
    }
   },
   "outputs": [],
   "source": [
    "gdf = gpd.read_file(output_path_geo / 'sp_cetesb.gpkg')\n",
    "gdf.head()\n",
    "gdf.info()\n"
   ]
  },
  {
   "cell_type": "code",
   "execution_count": null,
   "id": "bbac74da",
   "metadata": {},
   "outputs": [],
   "source": [
    "gdf['agencia']\n"
   ]
  },
  {
   "attachments": {},
   "cell_type": "markdown",
   "id": "b1d99773-918f-4184-97ae-9537a5a2924b",
   "metadata": {
    "pycharm": {
     "name": "#%% md\n"
    }
   },
   "source": [
    "<br>\n",
    "\n",
    "## Layer\n"
   ]
  },
  {
   "cell_type": "code",
   "execution_count": null,
   "id": "e5e1b340-b73c-4659-8ae0-f6e0b0751a1b",
   "metadata": {
    "pycharm": {
     "name": "#%%\n"
    }
   },
   "outputs": [],
   "source": [
    "def lyr_cetesb():\n",
    "    # Input\n",
    "    gdf = gpd.read_file(output_path_geo / 'sp_cetesb.geojson')\n",
    "    gdf['agencia'].replace('None', 'Sem Definição', inplace=True)\n",
    "    gdf = gdf.to_crs(epsg=4326)\n",
    "\n",
    "    # Set dictionary\n",
    "    colors = {\n",
    "        'Agência Ambiental de Americana': '#a6cee3',\n",
    "        'Agência Ambiental de Araraquara': '#1f78b4',\n",
    "        'Agência Ambiental de Araçatuba': '#b2df8a',\n",
    "        'Agência Ambiental de Assis': '#33a02c',\n",
    "        'Agência Ambiental de Atibaia': '#fb9a99',\n",
    "        'Agência Ambiental de Avaré': '#e31a1c',\n",
    "        'Agência Ambiental de Barretos': '#4da6ff',\n",
    "        'Agência Ambiental de Bauru': '#ff7f00',\n",
    "        'Agência Ambiental de Botucatu': '#cab2d6',\n",
    "        'Agência Ambiental de Campinas': '#6a3d9a',\n",
    "        'Agência Ambiental de Capão Bonito': '#ffff99',\n",
    "        'Agência Ambiental de Cubatão': '#b15928',\n",
    "        'Agência Ambiental de Dracena': '#a6cee3',\n",
    "        'Agência Ambiental de Embu das Artes': '#1f78b4',\n",
    "        'Agência Ambiental de Franca': '#b2df8a',\n",
    "        'Agência Ambiental de Guarulhos': '#33a02c',\n",
    "        'Agência Ambiental de Itapetininga': '#fb9a99',\n",
    "        'Agência Ambiental de Itu': '#e31a1c',\n",
    "        'Agência Ambiental de Jaboticabal': '#fdbf6f',\n",
    "        'Agência Ambiental de Jales': '#ff7f00',\n",
    "        'Agência Ambiental de Jundiaí': '#cab2d6',\n",
    "        'Agência Ambiental de Limeira': '#6a3d9a',\n",
    "        'Agência Ambiental de Marília': '#ffff99',\n",
    "        'Agência Ambiental de Mogi Guaçu': '#b15928',\n",
    "        'Agência Ambiental de Mogi das Cruzes': '#a6cee3',\n",
    "        'Agência Ambiental de Osasco': '#00264d',\n",
    "        'Agência Ambiental de Paulínia': '#b2df8a',\n",
    "        'Agência Ambiental de Piracicaba': '#33a02c',\n",
    "        'Agência Ambiental de Presidente Prudente': '#fb9a99',\n",
    "        'Agência Ambiental de Registro': '#e31a1c',\n",
    "        'Agência Ambiental de Ribeirão Preto': '#e699ff',\n",
    "        'Agência Ambiental de Santana': '#ff7f00',\n",
    "        'Agência Ambiental de Santo Amaro': '#cab2d6',\n",
    "        'Agência Ambiental de Santos': '#6a3d9a',\n",
    "        'Agência Ambiental de Sorocaba': '#ffff99',\n",
    "        'Agência Ambiental de São Carlos': '#ff5050',\n",
    "        'Agência Ambiental de São José do Rio Preto': '#a6cee3',\n",
    "        'Agência Ambiental de São José dos Campos': '#1f78b4',\n",
    "        'Agência Ambiental de São João da Boa Vista': '#b2df8a',\n",
    "        'Agência Ambiental de São Sebastião': '#33a02c',\n",
    "        'Agência Ambiental de Taubaté': '#fb9a99',\n",
    "        'Agência Ambiental de Votuporanga': '#e31a1c',\n",
    "        'Agência Ambiental do ABC I': '#fdbf6f',\n",
    "        'Agência Ambiental do ABC II': '#ff7f00',\n",
    "        'Agência Ambiental do Tatuapé': '#cab2d6',\n",
    "        'Sede': '#6a3d9a',\n",
    "        'Sem Definição': '#6a3d9a',\n",
    "    }\n",
    "    # Popup\n",
    "    # gdf['PopUp'] = gdf.apply(popup_html, axis=1)\n",
    "    gdf['popup'] = gdf.apply(popup_html, axis=1)\n",
    "\n",
    "    # Delete Columns\n",
    "    gdf.drop(\n",
    "        [\n",
    "            'id_municipio',\n",
    "            'endereco',\n",
    "            'numero',\n",
    "            'bairro',\n",
    "            'municipio_sede',\n",
    "            'cep',\n",
    "            'telefone',\n",
    "            'fax',\n",
    "            'complemento',\n",
    "            'url',\n",
    "            'email',\n",
    "        ],\n",
    "        axis=1,\n",
    "        inplace=True,\n",
    "    )\n",
    "    # print(gdf.columns)\n",
    "\n",
    "    # Layer\n",
    "    return folium.GeoJson(\n",
    "        gdf,\n",
    "        name='CETESB',\n",
    "        smooth_factor=1.0,\n",
    "        zoom_on_click=False,\n",
    "        embed=False,\n",
    "        control=True,\n",
    "        show=False,\n",
    "        style_function=lambda x: {\n",
    "            'fillColor': colors[x['properties']['agencia']],\n",
    "            'color': colors[x['properties']['agencia']],\n",
    "            'weight': 1,\n",
    "            'fillOpacity': 0.3,\n",
    "        },\n",
    "        highlight_function=lambda x: {\n",
    "            'weight': 3,\n",
    "            'fillOpacity': 0.6,\n",
    "        },\n",
    "        tooltip=folium.features.GeoJsonTooltip(\n",
    "            fields=['municipio_nome', 'agencia'],\n",
    "            aliases=['Munícipio', 'Agência'],\n",
    "            sticky=True,\n",
    "            opacity=0.9,\n",
    "            direction='right',\n",
    "        ),\n",
    "        popup=folium.GeoJsonPopup(\n",
    "            ['popup'],\n",
    "            parse_html=False,\n",
    "            max_width='400',\n",
    "            show=False,\n",
    "            labels=False,\n",
    "            sticky=True,\n",
    "            # localize=True,\n",
    "            # style=f\"\"\"\n",
    "            # background-color: #F0EFEF;\n",
    "            # \"\"\",\n",
    "        ),\n",
    "    )\n"
   ]
  },
  {
   "cell_type": "code",
   "execution_count": null,
   "id": "e2f8e661",
   "metadata": {},
   "outputs": [],
   "source": [
    "# Add Field\n",
    "def popup_html(row):\n",
    "    tel = (\n",
    "        str(row['telefone'])\n",
    "        .replace('-', '')\n",
    "        .replace(')', '')\n",
    "        .replace('(', '+55')\n",
    "        .replace(' ', '')\n",
    "    )\n",
    "    fax = (\n",
    "        str(row['fax'])\n",
    "        .replace('-', '')\n",
    "        .replace(')', '')\n",
    "        .replace('(', '+55')\n",
    "        .replace(' ', '')\n",
    "    )\n",
    "\n",
    "    html = \"\"\"\n",
    "    <div>\n",
    "    <p><b>{}</b> pertence à:\n",
    "    <h4><b>{}</b></h4></p>\n",
    "    \n",
    "    <p><b>Sede:</b><br>\n",
    "    {}{}{}<br>\n",
    "    {}\n",
    "    {}\n",
    "    {}</p>\n",
    "    <p><b>Contatos:</b><br>\n",
    "    {}\n",
    "    {}\n",
    "    {}</p>\n",
    "    <p>{}</p>\n",
    "    </div>\n",
    "    \"\"\".format(\n",
    "        ''\n",
    "        if pd.isnull(row['municipio_nome'])\n",
    "        else '{}'.format(row['municipio_nome']),\n",
    "        '' if pd.isnull(row['agencia']) else '{}'.format(row['agencia']),\n",
    "        '' if pd.isnull(row['endereco']) else '{}'.format(row['endereco']),\n",
    "        '' if pd.isnull(row['numero']) else ', {}'.format(row['numero']),\n",
    "        ''\n",
    "        if pd.isnull(row['complemento'])\n",
    "        else ' - {}'.format(row['complemento']),\n",
    "        ''\n",
    "        if pd.isnull(row['bairro'])\n",
    "        else 'Bairro: {}<br>'.format(row['bairro']),\n",
    "        ''\n",
    "        if pd.isnull(row['municipio_sede'])\n",
    "        else 'Município: {}<br>'.format(row['municipio_sede']),\n",
    "        '' if pd.isnull(row['cep']) else 'CEP: {}<br>'.format(row['cep']),\n",
    "        ''\n",
    "        if pd.isnull(row['telefone'])\n",
    "        else 'Telefone: <a href=\"tel:{}\">{}</a><br>'.format(\n",
    "            tel, row['telefone']\n",
    "        ),\n",
    "        ''\n",
    "        if pd.isnull(row['fax'])\n",
    "        else 'Fax: <a href=\"tel:{}\">{}</a><br>'.format(fax, row['fax']),\n",
    "        ''\n",
    "        if pd.isnull(row['email'])\n",
    "        else 'E-mail: <a href=\"mailto:{}\">{}</a>'.format(\n",
    "            row['email'], row['email']\n",
    "        ),\n",
    "        ''\n",
    "        if pd.isnull(row['email'])\n",
    "        else '<a href=\"{}\" target=\"_blank\">Conferir Dados</a>'.format(\n",
    "            row['url']\n",
    "        ),\n",
    "    )\n",
    "\n",
    "    html = html.replace('\\n', '')\n",
    "    html = re.sub('\\s\\s+', ' ', html)  # Remove Espaços no meio\n",
    "    html = html.strip()\n",
    "    return html\n"
   ]
  },
  {
   "attachments": {},
   "cell_type": "markdown",
   "id": "fbeaa1f4-a7de-43a5-bc37-bc12bd83a43f",
   "metadata": {
    "pycharm": {
     "name": "#%% md\n"
    }
   },
   "source": [
    "<br>\n",
    "\n",
    "## Folium\n"
   ]
  },
  {
   "cell_type": "code",
   "execution_count": null,
   "id": "064ad1bf-e672-4c7b-a540-65b4a649e4ef",
   "metadata": {
    "pycharm": {
     "name": "#%%\n"
    }
   },
   "outputs": [],
   "source": [
    "def get_map(input_geojson):\n",
    "    # Input\n",
    "    gdf = gpd.read_file(input_geojson)\n",
    "    gdf = gdf.to_crs(epsg=4326)\n",
    "    sw = gdf.bounds[['miny', 'minx']].min().values.tolist()\n",
    "    ne = gdf.bounds[['maxy', 'maxx']].max().values.tolist()\n",
    "    bounds = [sw, ne]\n",
    "\n",
    "    # Zoom\n",
    "    min_zoom = 5\n",
    "    max_zoom = 21\n",
    "    padding = 1\n",
    "\n",
    "    # Create Map\n",
    "    m = folium.Map(\n",
    "        min_zoom=min_zoom,\n",
    "        max_zoom=max_zoom,\n",
    "        max_bounds=True,\n",
    "        min_lat=bounds[0][0] * ((100 + padding) / 100),\n",
    "        min_lon=bounds[0][1] * ((100 + padding) / 100),\n",
    "        max_lat=bounds[1][0] * ((100 - padding) / 100),\n",
    "        max_lon=bounds[1][1] * ((100 - padding) / 100),\n",
    "        tiles=None,\n",
    "        # zoom_delta=0.1,\n",
    "        # zoom_start=10,\n",
    "    )\n",
    "\n",
    "    # Add Layers\n",
    "    m.add_child(lyr.base.google_streets(min_zoom, max_zoom))\n",
    "    m.add_child(lyr.base.google_terrain(min_zoom, max_zoom))\n",
    "    m.add_child(lyr.base.google_hybrid(min_zoom, max_zoom))\n",
    "    m.add_child(lyr.base.google_satellite(min_zoom, max_zoom))\n",
    "\n",
    "    # Monitoramento\n",
    "    m.add_child(lyr_cetesb())\n",
    "\n",
    "    # Plugins\n",
    "    m.fit_bounds(bounds)\n",
    "    plugins.Fullscreen(\n",
    "        position='topleft',\n",
    "        title='Clique para Maximizar',\n",
    "        title_cancel='Mininizar',\n",
    "    ).add_to(m)\n",
    "    folium.LayerControl(\n",
    "        position='topright',\n",
    "        collapsed=False,\n",
    "    ).add_to(m)\n",
    "    return m\n"
   ]
  },
  {
   "cell_type": "code",
   "execution_count": null,
   "id": "635f3e3e-8979-4f0d-a3c2-5457c23396fe",
   "metadata": {
    "pycharm": {
     "name": "#%%\n"
    }
   },
   "outputs": [],
   "source": [
    "# Create Maps\n",
    "m = get_map(output_path_geo / 'sp_cetesb.geojson')\n",
    "m\n"
   ]
  },
  {
   "cell_type": "code",
   "execution_count": null,
   "id": "89466767",
   "metadata": {},
   "outputs": [],
   "source": [
    "# Save\n",
    "m.save(output_path_map / 'cetesb_map.html')\n",
    "m\n"
   ]
  },
  {
   "attachments": {},
   "cell_type": "markdown",
   "id": "aa5ee8ef-5693-424e-8c5d-61625457e77f",
   "metadata": {
    "pycharm": {
     "name": "#%% md\n"
    }
   },
   "source": [
    "<br>\n",
    "\n",
    "# Get Colors\n"
   ]
  },
  {
   "cell_type": "code",
   "execution_count": null,
   "id": "cc886161-8c36-4cc7-840f-87e5517ed7a5",
   "metadata": {
    "pycharm": {
     "name": "#%%\n"
    }
   },
   "outputs": [],
   "source": [
    "def create_colors(input_geojson):\n",
    "    gdf = gpd.read_file(input_geojson)\n",
    "\n",
    "    # Column with category\n",
    "    col_categories = 'agencia'\n",
    "\n",
    "    # Set palette\n",
    "    palette_polygon = 'Paired'\n",
    "\n",
    "    # Get list of unique values\n",
    "    categories = set(gdf[col_categories])\n",
    "    categories = list(categories)\n",
    "    categories.sort()\n",
    "\n",
    "    # See the palette chosed\n",
    "    pal = sns.color_palette(palette_polygon, n_colors=len(categories))\n",
    "\n",
    "    # Set dictionary\n",
    "    color_polygon = dict(zip(categories, pal.as_hex()))\n",
    "    color_polygon['Agência Ambiental de Ribeirão Preto'] = '#e699ff'\n",
    "    color_polygon['Agência Ambiental de Barretos'] = '#4da6ff'\n",
    "    color_polygon['Agência Ambiental de São Carlos'] = '#ff5050'\n",
    "    color_polygon['Agência Ambiental de Osasco'] = '#00264d'\n",
    "    return color_polygon\n"
   ]
  },
  {
   "cell_type": "code",
   "execution_count": null,
   "id": "e8b6da9b-4c62-47d8-baaa-e65382efaefe",
   "metadata": {
    "pycharm": {
     "name": "#%%\n"
    }
   },
   "outputs": [],
   "source": [
    "input_geojson = output_path_geo / 'sp_cetesb.geojson'\n",
    "a = create_colors(input_geojson)\n"
   ]
  },
  {
   "cell_type": "code",
   "execution_count": null,
   "id": "6ff96e4f",
   "metadata": {},
   "outputs": [],
   "source": []
  }
 ],
 "metadata": {
  "kernelspec": {
   "display_name": "pablocarreira-lastest",
   "language": "python",
   "name": "python3"
  },
  "language_info": {
   "codemirror_mode": {
    "name": "ipython",
    "version": 3
   },
   "file_extension": ".py",
   "mimetype": "text/x-python",
   "name": "python",
   "nbconvert_exporter": "python",
   "pygments_lexer": "ipython3",
   "version": "3.10.8"
  },
  "vscode": {
   "interpreter": {
    "hash": "3eff2e4eec0fbea9d660dbbf3c9c38e7f3540f855f42d9d14e44150e78f59c2a"
   }
  }
 },
 "nbformat": 4,
 "nbformat_minor": 5
}
